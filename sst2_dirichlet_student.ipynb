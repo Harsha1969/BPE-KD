{
 "cells": [
  {
   "cell_type": "code",
   "execution_count": 1,
   "id": "aa8e92a3-db78-4ab0-ae77-bc397147e40f",
   "metadata": {},
   "outputs": [],
   "source": [
    "import os\n",
    "os.environ[\"CUDA_DEVICE_ORDER\"] = \"PCI_BUS_ID\"\n",
    "os.environ[\"CUDA_VISIBLE_DEVICES\"] = \"0\""
   ]
  },
  {
   "cell_type": "code",
   "execution_count": 2,
   "id": "46ae2666-72c7-41ec-86fa-dd1c4a4e60b3",
   "metadata": {},
   "outputs": [],
   "source": [
    "import pandas as pd\n",
    "import numpy as np\n",
    "import torch\n",
    "import torch.optim as optim\n",
    "import torch.nn.functional as F\n",
    "from llm_classifier_modified import LLMClassifier\n",
    "from llm_model_modified import LLM\n",
    "from torch.utils.data import Dataset, DataLoader\n",
    "from scipy.stats import dirichlet\n",
    "import evaluation "
   ]
  },
  {
   "cell_type": "code",
   "execution_count": 3,
   "id": "874b21ca-81c8-4a9c-82de-d5f7b93e4f47",
   "metadata": {},
   "outputs": [],
   "source": [
    "# Load sst2 train and test data\n",
    "df_train = pd.read_csv('train_sst2.csv')\n",
    "df_test = pd.read_csv('test_sst2.csv')\n",
    "n_train = 10000  \n",
    "n_in_context = 5  \n",
    "n_total_in_context = 9 * n_in_context  \n",
    "n_val=100\n",
    "df_train_actual = df_train.iloc[:n_train] \n",
    "df_test_actual = df_test.iloc[:]  \n",
    "gt_labels_train = df_train_actual.iloc[:, 2].values.astype(int) \n",
    "samples_train = df_train_actual.iloc[:, 1].values \n",
    "gt_labels_test = df_test_actual.iloc[:, 2].values.astype(int)\n",
    "samples_test = df_test_actual.iloc[:, 1].values "
   ]
  },
  {
   "cell_type": "code",
   "execution_count": 4,
   "id": "2111c18a-1e30-4b96-b43e-ce5b20e05e4c",
   "metadata": {},
   "outputs": [
    {
     "data": {
      "application/vnd.jupyter.widget-view+json": {
       "model_id": "3da7deb621ed436eadb3919ee4335d68",
       "version_major": 2,
       "version_minor": 0
      },
      "text/plain": [
       "Loading checkpoint shards:   0%|          | 0/3 [00:00<?, ?it/s]"
      ]
     },
     "metadata": {},
     "output_type": "display_data"
    },
    {
     "name": "stdout",
     "output_type": "stream",
     "text": [
      "trainable params: 14,221,312 || all params: 7,262,244,864 || trainable%: 0.1958\n"
     ]
    }
   ],
   "source": [
    "# Define a prompt formatting class for sentiment classification and initializes an LLM-based classifier\n",
    "class PromptFormatting(object):\n",
    "    def __init__(self):\n",
    "        # Best instruction from BayesPE teacher i.e. instruction with highest weight\n",
    "        self.INSTRUCTION = 'Select the sentiment category that best matches the opinion expressed in the review snippet.'\n",
    "        self.CLASSES = ['negative', 'positive']\n",
    "        self.CLASSES_FOR_MATCHING = [self.CLASSES, ['neg', 'pos'], ['1', '2']]\n",
    "        self.CLASSES_TEXT = '''1. {}\\n2. {}'''.format(self.CLASSES[0], self.CLASSES[1])\n",
    "\n",
    "    def format_instruction(self, instruction):\n",
    "        return '''{}\\n{}\\n'''.format(instruction, self.CLASSES_TEXT)\n",
    "\n",
    "    def format_content(self, content):\n",
    "        return '''review: {}\\nthe review is '''.format(content)\n",
    "\n",
    "llm = LLM(model_name=\"mistralai/Mistral-7B-Instruct-v0.3\", use_reduced_precision=True,use_lora=True)\n",
    "prompt_formatting = PromptFormatting()\n",
    "classifier = LLMClassifier(model=llm, prompt_formatting=prompt_formatting)"
   ]
  },
  {
   "cell_type": "code",
   "execution_count": 5,
   "id": "c64a5382-f643-4443-8df4-ad36279ecace",
   "metadata": {},
   "outputs": [],
   "source": [
    "# Load teacher predictions and weights\n",
    "probs = torch.load(\"sst2_probs.pt\", weights_only=False)\n",
    "weights = torch.load(\"sst2_prompt_weights.pt\", weights_only=False)\n",
    "if isinstance(probs, np.ndarray):\n",
    "    probs = torch.tensor(probs, dtype=torch.float32, device=llm.device)\n",
    "if isinstance(weights, np.ndarray):\n",
    "    weights = torch.tensor(weights, dtype=torch.float32, device=llm.device)"
   ]
  },
  {
   "cell_type": "code",
   "execution_count": 6,
   "id": "c5e1396a-bf7c-420c-992f-e8a8ef6ee676",
   "metadata": {},
   "outputs": [],
   "source": [
    "# Compute Dirichlet-based distillation loss\n",
    "def dirichlet_loss(alpha, probs, weights):\n",
    "    alpha_0 = torch.sum(alpha, dim=1, keepdim=True)                      \n",
    "    log_gamma_alpha_0 = torch.lgamma(alpha_0)                           \n",
    "    log_gamma_alpha_c = torch.lgamma(alpha).sum(dim=1, keepdim=True)   \n",
    "    alpha_expanded = alpha.unsqueeze(-1)                                \n",
    "    weighted_log_probs = (alpha_expanded - 1) * torch.log(probs + 1e-8) \n",
    "    class_sum = weighted_log_probs.sum(dim=1)                           \n",
    "    if weights.ndim == 1:\n",
    "        weights = weights.unsqueeze(1)                                   \n",
    "    weights_broadcasted = weights.T.expand(probs.shape[0], -1)          \n",
    "    weighted_terms = class_sum * weights_broadcasted                 \n",
    "    prompt_sum = weighted_terms.sum(dim=1, keepdim=True)               \n",
    "    loss = -(log_gamma_alpha_0 - log_gamma_alpha_c + prompt_sum).mean()\n",
    "    return loss"
   ]
  },
  {
   "cell_type": "code",
   "execution_count": 7,
   "id": "d09c6d11-15d4-41fd-a9b4-0c81dc464c8d",
   "metadata": {},
   "outputs": [],
   "source": [
    "# Evaluate performance of model on Amazon reviews polarity test data\n",
    "def evaluate():\n",
    "    def dirichlet_to_prob(alpha):\n",
    "        return alpha / alpha.sum(dim=1, keepdim=True) \n",
    "    \n",
    "    \n",
    "    class TestDirichletDataset(Dataset):\n",
    "        def __init__(self, samples, n_samples):\n",
    "            self.samples = samples\n",
    "            self.n_samples = n_samples\n",
    "    \n",
    "        def __len__(self):\n",
    "            return self.n_samples\n",
    "    \n",
    "        def __getitem__(self, idx):\n",
    "            return self.samples[idx]\n",
    "    \n",
    "    llm.model.eval()\n",
    "    test_dataset = TestDirichletDataset(samples_test, 872)\n",
    "    test_dataloader = DataLoader(test_dataset, batch_size=16, shuffle=False) \n",
    "    \n",
    "    def get_test_alpha(test_dataloader, classifier):\n",
    "        all_alpha = []\n",
    "    \n",
    "        with torch.no_grad():\n",
    "            for batch_samples in test_dataloader:\n",
    "                alpha_batch = classifier.soft_labels_batch(input_texts=batch_samples)\n",
    "                all_alpha.append(alpha_batch)\n",
    "    \n",
    "        return torch.cat(all_alpha, dim=0) \n",
    "    \n",
    "    alpha_test = get_test_alpha(test_dataloader, classifier)\n",
    "    stu_probs = dirichlet_to_prob(alpha_test)\n",
    "    stu_probs=stu_probs.cpu().numpy()\n",
    "    f1_score = evaluation.compute_metric(gt_labels_test, stu_probs, metric='f1')\n",
    "    ece = evaluation.compute_metric(gt_labels_test, stu_probs, metric='ece')\n",
    "    print('Student f1-score: {}, Student ECE: {}'.format(f1_score, ece))"
   ]
  },
  {
   "cell_type": "code",
   "execution_count": 8,
   "id": "3396e346-a531-48d0-80f4-b2e54cef9981",
   "metadata": {},
   "outputs": [],
   "source": [
    "from torch.utils.data import Dataset, DataLoader\n",
    "\n",
    "class DirichletDataset(Dataset):\n",
    "    def __init__(self, samples, num_samples):\n",
    "        self.samples = samples\n",
    "        self.num_samples = num_samples\n",
    "\n",
    "    def __len__(self):\n",
    "        return self.num_samples\n",
    "\n",
    "    def __getitem__(self, idx):\n",
    "        return self.samples[idx], idx "
   ]
  },
  {
   "cell_type": "code",
   "execution_count": 9,
   "id": "0161c507-a518-4714-aa86-aae058fb4ba1",
   "metadata": {},
   "outputs": [
    {
     "name": "stdout",
     "output_type": "stream",
     "text": [
      "Epoch 1/10, Loss: -1346.9719011932611\n",
      "Student f1-score: 0.9541088861405678, Student ECE: 0.014382947236299515\n",
      "Epoch 2/10, Loss: -1943.2796809077263\n",
      "Student f1-score: 0.9529810948545125, Student ECE: 0.022758912295103073\n",
      "Epoch 3/10, Loss: -2075.80743509531\n",
      "Student f1-score: 0.9541245791245792, Student ECE: 0.016509659588336945\n",
      "Epoch 4/10, Loss: -2215.766918540001\n",
      "Student f1-score: 0.9529810948545125, Student ECE: 0.013660853728652\n",
      "Epoch 5/10, Loss: -2309.298662543297\n",
      "Student f1-score: 0.9529801054501886, Student ECE: 0.015524783171713352\n",
      "Epoch 6/10, Loss: -2334.9343638420105\n",
      "Student f1-score: 0.9552746999835607, Student ECE: 0.01670568808913231\n",
      "Epoch 7/10, Loss: -2379.418802857399\n",
      "Student f1-score: 0.9541281990583655, Student ECE: 0.015593266114592552\n",
      "Epoch 8/10, Loss: -2430.474953174591\n",
      "Student f1-score: 0.9541274751173117, Student ECE: 0.012486808933317661\n",
      "Epoch 9/10, Loss: -2352.5335055589676\n",
      "Student f1-score: 0.9518186410709775, Student ECE: 0.012769356369972229\n",
      "Epoch 10/10, Loss: -2441.2866257429123\n",
      "Student f1-score: 0.9506771110804181, Student ECE: 0.04320744052529335\n"
     ]
    }
   ],
   "source": [
    "# Train student model with teacher predictions and evaluate after each epoch on test data\n",
    "def train_student(samples_train, probs, weights, num_epochs=10, learning_rate=1e-5, batch_size=32):\n",
    "    dataset = DirichletDataset(samples_train, len(samples_train))\n",
    "    dataloader = DataLoader(dataset, batch_size=batch_size, shuffle=False)\n",
    "\n",
    "    optimizer = optim.AdamW(filter(lambda p: p.requires_grad, llm.model.parameters()), lr=learning_rate)\n",
    "    llm.model.train()  \n",
    "\n",
    "    for epoch in range(num_epochs):\n",
    "        total_loss = 0\n",
    "\n",
    "        for batch_idx, (batch_samples, batch_indices) in enumerate(dataloader, start=1):\n",
    "            batch_indices = batch_indices.to(llm.device)\n",
    "\n",
    "            batch_probs = probs[batch_indices] \n",
    "\n",
    "            optimizer.zero_grad()\n",
    "\n",
    "            alpha = classifier.soft_labels_batch(input_texts=batch_samples)\n",
    "            alpha = torch.clamp(alpha, min=1e-3)\n",
    "            loss = dirichlet_loss(alpha, batch_probs, weights)\n",
    "          \n",
    "            loss.backward()\n",
    "\n",
    "            optimizer.step()\n",
    "            total_loss += loss.item()\n",
    "\n",
    "            if batch_idx % 1000 == 0:\n",
    "                    print(f\"Epoch {epoch+1}/{num_epochs}, Batch {batch_idx}/{len(dataloader)}\")\n",
    "\n",
    "        torch.cuda.empty_cache()\n",
    "\n",
    "        print(f\"Epoch {epoch+1}/{num_epochs}, Loss: {total_loss}\")\n",
    "        evaluate()\n",
    "train_student(samples_train, probs, weights, batch_size=16)"
   ]
  }
 ],
 "metadata": {
  "kernelspec": {
   "display_name": "Python (base)",
   "language": "python",
   "name": "base"
  },
  "language_info": {
   "codemirror_mode": {
    "name": "ipython",
    "version": 3
   },
   "file_extension": ".py",
   "mimetype": "text/x-python",
   "name": "python",
   "nbconvert_exporter": "python",
   "pygments_lexer": "ipython3",
   "version": "3.13.2"
  }
 },
 "nbformat": 4,
 "nbformat_minor": 5
}
