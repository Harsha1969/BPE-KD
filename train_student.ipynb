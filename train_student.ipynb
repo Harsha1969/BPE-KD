{
 "cells": [
  {
   "cell_type": "code",
   "execution_count": null,
   "id": "885b7057-62d8-42e3-ba3c-b78bdd1ac54f",
   "metadata": {},
   "outputs": [],
   "source": [
    "import pandas as pd\n",
    "import numpy as np\n",
    "import torch\n",
    "import torch.optim as optim\n",
    "import torch.nn.functional as F\n",
    "from llm_classifier_modified import LLMClassifier\n",
    "from llm_model_modified import LLM"
   ]
  },
  {
   "cell_type": "code",
   "execution_count": null,
   "id": "9b896bff-9e4b-421a-bac4-7cf09bba7319",
   "metadata": {},
   "outputs": [],
   "source": [
    "# **Load modified datasets**\n",
    "df_train = pd.read_csv('train_modified.csv', header=None)\n",
    "df_test = pd.read_csv('test_modified.csv', header=None)\n",
    "\n",
    "# **Dataset parameters**\n",
    "n_train = 50000  \n",
    "n_in_context = 5  \n",
    "n_total_in_context = len(df_train) * n_in_context  \n",
    "n_test = 5000\n",
    "n_val = 100\n",
    "\n",
    "# **Split Data**\n",
    "df_train_actual = df_train.iloc[:n_train] \n",
    "df_in_context_base = df_train.iloc[n_train:n_train + n_total_in_context]\n",
    "df_val = df_train.iloc[n_train + n_total_in_context:n_train + n_total_in_context + n_val]\n",
    "df_test_actual = df_test.iloc[:n_test]  \n",
    "\n",
    "# **Extract Training Data**\n",
    "gt_labels_train = df_train_actual.iloc[:, 0].values.astype(int) \n",
    "samples_train = df_train_actual.iloc[:, 2].values \n",
    "gt_labels_val = df_val.iloc[:, 0].values.astype(int) \n",
    "samples_val = df_val.iloc[:, 2].values \n",
    "\n",
    "# **Extract Test Data**\n",
    "gt_labels_test = df_test_actual.iloc[:, 0].values.astype(int)\n",
    "samples_test = df_test_actual.iloc[:, 2].values  \n"
   ]
  },
  {
   "cell_type": "code",
   "execution_count": null,
   "id": "2111c18a-1e30-4b96-b43e-ce5b20e05e4c",
   "metadata": {},
   "outputs": [],
   "source": [
    "# **Define Prompt Formatting Class**\n",
    "class PromptFormatting(object):\n",
    "    def __init__(self):\n",
    "        self.INSTRUCTION = 'classify the sentiment of the Amazon review below into one of the following classes:'\n",
    "        self.CLASSES = ['negative', 'positive']\n",
    "        self.CLASSES_FOR_MATCHING = [self.CLASSES, ['neg', 'pos'], ['1', '2']]\n",
    "        self.CLASSES_TEXT = '''1. {}\\n2. {}'''.format(self.CLASSES[0], self.CLASSES[1])\n",
    "\n",
    "    def format_instruction(self, instruction):\n",
    "        return '''{}\\n{}\\n'''.format(instruction, self.CLASSES_TEXT)\n",
    "\n",
    "    def format_content(self, content):\n",
    "        return '''review: {}\\nthe review is '''.format(content)\n",
    "\n",
    "# **Load Model and Classifier**\n",
    "llm = LLM(model_name=\"mistralai/Mistral-7B-Instruct-v0.3\", use_lora=True)\n",
    "prompt_formatting = PromptFormatting()\n",
    "classifier = LLMClassifier(model=llm, prompt_formatting=prompt_formatting)"
   ]
  },
  {
   "cell_type": "code",
   "execution_count": null,
   "id": "c5e1396a-bf7c-420c-992f-e8a8ef6ee676",
   "metadata": {},
   "outputs": [],
   "source": [
    "def dirichlet_loss(alpha, probs, weights):\n",
    "\n",
    "    alpha_0 = alpha.sum(dim=0, keepdim=True)  \n",
    "    log_gamma_alpha_0 = torch.lgamma(alpha_0)\n",
    "    log_gamma_alpha_c = torch.lgamma(alpha).sum(dim=0, keepdim=True)\n",
    "\n",
    "    weighted_log_probs = (alpha - 1) * torch.log(probs + 1e-8)\n",
    "\n",
    "    class_sum = torch.sum(weighted_log_probs, dim=0) \n",
    "    weighted_terms = class_sum * weights\n",
    "    final_sum = torch.sum(weighted_terms, dim=-1)  \n",
    "\n",
    "    loss = -(log_gamma_alpha_0 - log_gamma_alpha_c + final_sum).mean() \n",
    "    return loss"
   ]
  },
  {
   "cell_type": "code",
   "execution_count": null,
   "id": "0161c507-a518-4714-aa86-aae058fb4ba1",
   "metadata": {},
   "outputs": [],
   "source": [
    "# **Training Function**\n",
    "def train_student(input_texts,probs, weights, num_epochs=10, learning_rate=1e-4):\n",
    "\n",
    "    optimizer = optim.AdamW(llm.model.parameters(), lr=learning_rate)\n",
    "    llm.model.train()\n",
    "\n",
    "    for epoch in range(num_epochs):\n",
    "        optimizer.zero_grad()\n",
    "        \n",
    "        # Compute Dirichlet parameters and probabilities\n",
    "        alpha,_ = classifier.soft_labels_batch(input_texts=input_texts)\n",
    "\n",
    "        # Compute loss\n",
    "        loss = dirichlet_loss(alpha, probs, weights)\n",
    "\n",
    "        # Backpropagation\n",
    "        loss.backward()\n",
    "        optimizer.step()\n",
    "\n",
    "        print(f\"Epoch {epoch+1}/{num_epochs}, Loss: {loss.item()}\")\n",
    "\n",
    "probs = torch.load(\"teacher_probs_promptwise.pt\") \n",
    "weights = torch.load(\"prompt_weights.pt\")\n",
    "train_student(samples_train, probs, weights)\n"
   ]
  }
 ],
 "metadata": {
  "kernelspec": {
   "display_name": "bayespe1",
   "language": "python",
   "name": "bayespe1"
  },
  "language_info": {
   "codemirror_mode": {
    "name": "ipython",
    "version": 3
   },
   "file_extension": ".py",
   "mimetype": "text/x-python",
   "name": "python",
   "nbconvert_exporter": "python",
   "pygments_lexer": "ipython3",
   "version": "3.11.10"
  }
 },
 "nbformat": 4,
 "nbformat_minor": 5
}
