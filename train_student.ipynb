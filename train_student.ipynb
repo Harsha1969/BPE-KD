{
 "cells": [
  {
   "cell_type": "code",
   "execution_count": null,
   "id": "aa8e92a3-db78-4ab0-ae77-bc397147e40f",
   "metadata": {},
   "outputs": [],
   "source": [
    "import os\n",
    "os.environ[\"CUDA_DEVICE_ORDER\"] = \"PCI_BUS_ID\"\n",
    "os.environ[\"CUDA_VISIBLE_DEVICES\"] = \"1\""
   ]
  },
  {
   "cell_type": "code",
   "execution_count": null,
   "id": "885b7057-62d8-42e3-ba3c-b78bdd1ac54f",
   "metadata": {},
   "outputs": [],
   "source": [
    "import pandas as pd\n",
    "import numpy as np\n",
    "import torch\n",
    "import torch.optim as optim\n",
    "import torch.nn.functional as F\n",
    "from llm_classifier_modified import LLMClassifier\n",
    "from llm_model_modified import LLM"
   ]
  },
  {
   "cell_type": "code",
   "execution_count": null,
   "id": "9b896bff-9e4b-421a-bac4-7cf09bba7319",
   "metadata": {},
   "outputs": [],
   "source": [
    "df_train = pd.read_csv('train_modified.csv', header=None)\n",
    "df_test = pd.read_csv('test_modified.csv', header=None)\n",
    "\n",
    "n_train = 50000  \n",
    "n_in_context = 5  \n",
    "n_total_in_context = len(df_train) * n_in_context  \n",
    "n_test = 5000\n",
    "n_val = 100\n",
    "\n",
    "df_train_actual = df_train.iloc[:n_train] \n",
    "df_in_context_base = df_train.iloc[n_train:n_train + n_total_in_context]\n",
    "df_val = df_train.iloc[n_train + n_total_in_context:n_train + n_total_in_context + n_val]\n",
    "df_test_actual = df_test.iloc[:n_test]  \n",
    "\n",
    "gt_labels_train = df_train_actual.iloc[:, 0].values.astype(int) \n",
    "samples_train = df_train_actual.iloc[:, 2].values \n",
    "gt_labels_val = df_val.iloc[:, 0].values.astype(int) \n",
    "samples_val = df_val.iloc[:, 2].values \n",
    "\n",
    "gt_labels_test = df_test_actual.iloc[:, 0].values.astype(int)\n",
    "samples_test = df_test_actual.iloc[:, 2].values  \n"
   ]
  },
  {
   "cell_type": "code",
   "execution_count": null,
   "id": "2111c18a-1e30-4b96-b43e-ce5b20e05e4c",
   "metadata": {},
   "outputs": [],
   "source": [
    "class PromptFormatting(object):\n",
    "    def __init__(self):\n",
    "        self.INSTRUCTION = 'classify the sentiment of the Amazon review below into one of the following classes:'\n",
    "        self.CLASSES = ['negative', 'positive']\n",
    "        self.CLASSES_FOR_MATCHING = [self.CLASSES, ['neg', 'pos'], ['1', '2']]\n",
    "        self.CLASSES_TEXT = '''1. {}\\n2. {}'''.format(self.CLASSES[0], self.CLASSES[1])\n",
    "\n",
    "    def format_instruction(self, instruction):\n",
    "        return '''{}\\n{}\\n'''.format(instruction, self.CLASSES_TEXT)\n",
    "\n",
    "    def format_content(self, content):\n",
    "        return '''review: {}\\nthe review is '''.format(content)\n",
    "\n",
    "llm = LLM(model_name=\"mistralai/Mistral-7B-Instruct-v0.3\", use_reduced_precision=True,use_lora=True)\n",
    "prompt_formatting = PromptFormatting()\n",
    "classifier = LLMClassifier(model=llm, prompt_formatting=prompt_formatting)"
   ]
  },
  {
   "cell_type": "code",
   "execution_count": null,
   "id": "c5e1396a-bf7c-420c-992f-e8a8ef6ee676",
   "metadata": {},
   "outputs": [],
   "source": [
    "import torch\n",
    "\n",
    "def dirichlet_loss(alpha, probs, weights):\n",
    "    \n",
    "    alpha_0 = torch.sum(alpha, dim=1, keepdim=True)\n",
    "\n",
    "    log_gamma_alpha_0 = torch.lgamma(alpha_0)  \n",
    "    log_gamma_alpha_c = torch.lgamma(alpha).sum(dim=1, keepdim=True)\n",
    "\n",
    "    alpha_expanded = alpha.unsqueeze(-1)  \n",
    "    weighted_log_probs = (alpha_expanded - 1) * torch.log(probs + 1e-8)\n",
    "\n",
    "    class_sum = weighted_log_probs.sum(dim=1) \n",
    "    weighted_terms = class_sum * weights\n",
    "    prompt_sum = weighted_terms.sum(dim=-1) \n",
    "\n",
    "    loss = -(log_gamma_alpha_0 - log_gamma_alpha_c + prompt_sum).mean()\n",
    "\n",
    "    return loss\n"
   ]
  },
  {
   "cell_type": "code",
   "execution_count": null,
   "id": "c64a5382-f643-4443-8df4-ad36279ecace",
   "metadata": {},
   "outputs": [],
   "source": [
    "# Load teacher predictions and weights\n",
    "probs = torch.load(\"teacher_probs_promptwise.pt\", weights_only=False)\n",
    "weights = torch.load(\"prompt_weights.pt\", weights_only=False)\n",
    "if isinstance(probs, np.ndarray):\n",
    "    probs = torch.tensor(probs, dtype=torch.float32, device=llm.device)\n",
    "if isinstance(weights, np.ndarray):\n",
    "    weights = torch.tensor(weights, dtype=torch.float32, device=llm.device)"
   ]
  },
  {
   "cell_type": "code",
   "execution_count": null,
   "id": "0161c507-a518-4714-aa86-aae058fb4ba1",
   "metadata": {},
   "outputs": [],
   "source": [
    "import torch.optim as optim\n",
    "\n",
    "def train_student(samples_train, probs, weights, num_epochs=10, learning_rate=1e-4):\n",
    "    optimizer = optim.AdamW(filter(lambda p: p.requires_grad, llm.model.parameters()), lr=learning_rate)\n",
    "    llm.model.train() \n",
    "\n",
    "    for epoch in range(num_epochs):\n",
    "        optimizer.zero_grad()\n",
    "\n",
    "        alpha = classifier.soft_labels_batch(input_texts=samples_train)\n",
    "\n",
    "        loss = dirichlet_loss(alpha, probs, weights)\n",
    "        \n",
    "        assert loss.requires_grad, \"Loss does not require gradients!\"\n",
    "\n",
    "        print(f\"\\n[Epoch {epoch+1}] Checking Gradients BEFORE Backpropagation:\")\n",
    "        for name, param in llm.model.named_parameters():\n",
    "            if param.requires_grad:\n",
    "                grad_status = \"None\" if param.grad is None else \"Has Gradient\"\n",
    "                print(f\"  {name}: {grad_status}\")\n",
    "\n",
    "     \n",
    "        loss.backward()\n",
    "\n",
    "        print(\" Checking Gradients AFTER Backpropagation:\")\n",
    "        for name, param in llm.model.named_parameters():\n",
    "             if not param.requires_grad:\n",
    "                     print(f\"{name} is detached (requires_grad=False)\")\n",
    "             elif param.grad is None:\n",
    "                     print(f\"{name} is trainable but has no gradient (not updated)\")\n",
    "             else:\n",
    "                     print(f\"{name} is trainable with {param.numel()} params\")\n",
    "\n",
    "\n",
    "        optimizer.step()\n",
    "\n",
    "        torch.cuda.empty_cache()\n",
    "\n",
    "        print(f\"Epoch {epoch+1}/{num_epochs}, Loss: {loss.item()}\")\n",
    "\n",
    "train_student(samples_train, probs, weights)\n"
   ]
  }
 ],
 "metadata": {
  "kernelspec": {
   "display_name": "bayespe1",
   "language": "python",
   "name": "bayespe1"
  },
  "language_info": {
   "codemirror_mode": {
    "name": "ipython",
    "version": 3
   },
   "file_extension": ".py",
   "mimetype": "text/x-python",
   "name": "python",
   "nbconvert_exporter": "python",
   "pygments_lexer": "ipython3",
   "version": "3.11.10"
  }
 },
 "nbformat": 4,
 "nbformat_minor": 5
}
