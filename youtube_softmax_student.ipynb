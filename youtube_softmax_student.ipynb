{
 "cells": [
  {
   "cell_type": "markdown",
   "id": "3d255a80-cf9b-460a-ba1f-498cc632fc0f",
   "metadata": {},
   "source": [
    "Dataset is accessible through: https://drive.google.com/drive/folders/13USe0gzuzmgJxKuQQqGZck3stj5WkY00?usp=sharing"
   ]
  },
  {
   "cell_type": "code",
   "execution_count": 1,
   "id": "aa8e92a3-db78-4ab0-ae77-bc397147e40f",
   "metadata": {},
   "outputs": [],
   "source": [
    "import os\n",
    "os.environ[\"CUDA_DEVICE_ORDER\"] = \"PCI_BUS_ID\"\n",
    "os.environ[\"CUDA_VISIBLE_DEVICES\"] = \"1\""
   ]
  },
  {
   "cell_type": "code",
   "execution_count": 2,
   "id": "46ae2666-72c7-41ec-86fa-dd1c4a4e60b3",
   "metadata": {},
   "outputs": [
    {
     "name": "stderr",
     "output_type": "stream",
     "text": [
      "/home/miniconda3/lib/python3.13/site-packages/tqdm/auto.py:21: TqdmWarning: IProgress not found. Please update jupyter and ipywidgets. See https://ipywidgets.readthedocs.io/en/stable/user_install.html\n",
      "  from .autonotebook import tqdm as notebook_tqdm\n"
     ]
    }
   ],
   "source": [
    "import pandas as pd\n",
    "import numpy as np\n",
    "import torch\n",
    "import torch.optim as optim\n",
    "import torch.nn.functional as F\n",
    "from llm_classifier_modified import LLMClassifier\n",
    "from llm_model_modified1 import LLM"
   ]
  },
  {
   "cell_type": "code",
   "execution_count": 3,
   "id": "874b21ca-81c8-4a9c-82de-d5f7b93e4f47",
   "metadata": {},
   "outputs": [],
   "source": [
    "# Load youtube comments train and test data\n",
    "df_train = pd.read_csv('youtube.csv')\n",
    "n_train = 1100  \n",
    "n_in_context = 5 \n",
    "n_total_in_context = 9 * n_in_context  \n",
    "n_val=100\n",
    "df_train_actual = df_train.iloc[:n_train] \n",
    "df_in_context_base = df_train.iloc[n_train:n_train + n_total_in_context]\n",
    "df_val = df_train.iloc[n_train + n_total_in_context:n_train+n_total_in_context+n_val]\n",
    "df_test_actual = df_train.iloc[n_train+n_total_in_context+n_val:]  \n",
    "gt_labels_train = df_train_actual.iloc[:, 4].values.astype(int) \n",
    "samples_train = df_train_actual.iloc[:, 3].values \n",
    "gt_labels_val = df_val.iloc[:, 4].values.astype(int) \n",
    "samples_val = df_val.iloc[:, 3].values \n",
    "gt_labels_test = df_test_actual.iloc[:, 4].values.astype(int)\n",
    "samples_test = df_test_actual.iloc[:, 3].values "
   ]
  },
  {
   "cell_type": "code",
   "execution_count": 4,
   "id": "2111c18a-1e30-4b96-b43e-ce5b20e05e4c",
   "metadata": {},
   "outputs": [
    {
     "name": "stderr",
     "output_type": "stream",
     "text": [
      "Loading checkpoint shards: 100%|█████████████████████████████████████████████████████████████████████████████████████████████████████████████████████████████████████████████████████| 3/3 [00:02<00:00,  1.09it/s]\n"
     ]
    },
    {
     "name": "stdout",
     "output_type": "stream",
     "text": [
      "trainable params: 7,110,656 || all params: 7,255,134,208 || trainable%: 0.0980\n"
     ]
    }
   ],
   "source": [
    "# Define prompt formatting class for youTube comment spam detection and initialize an LLM-based classifier\n",
    "class PromptFormatting(object):\n",
    "    def __init__(self):\n",
    "        # Best instruction from BayesPE teacher i.e. instruction with highest weight\n",
    "        self.INSTRUCTION = 'Judge whether the Youtube comment should be flagged as spam.'\n",
    "        self.CLASSES = ['not spam', 'spam']\n",
    "        self.CLASSES_FOR_MATCHING = [self.CLASSES, ['ham', 'spam'], ['0', '1']]\n",
    "        self.CLASSES_TEXT = '''1. {}\\n2. {}'''.format(self.CLASSES[0], self.CLASSES[1])\n",
    "\n",
    "    def format_instruction(self, instruction):\n",
    "        return '''{}\\n{}\\n'''.format(instruction, self.CLASSES_TEXT)\n",
    "\n",
    "    def format_content(self, content):\n",
    "        return '''comment: {}\\nthe comment is '''.format(content)\n",
    "\n",
    "llm = LLM(model_name=\"mistralai/Mistral-7B-Instruct-v0.3\", use_reduced_precision=True,use_lora=True)\n",
    "prompt_formatting = PromptFormatting()\n",
    "classifier = LLMClassifier(model=llm, prompt_formatting=prompt_formatting)"
   ]
  },
  {
   "cell_type": "code",
   "execution_count": 5,
   "id": "c64a5382-f643-4443-8df4-ad36279ecace",
   "metadata": {},
   "outputs": [],
   "source": [
    "# Load teacher predictions and weights\n",
    "probs = torch.load(\"youtube_probs.pt\", weights_only=False)\n",
    "weights = torch.load(\"youtube_prompt_weights.pt\", weights_only=False)\n",
    "if isinstance(probs, np.ndarray):\n",
    "    probs = torch.tensor(probs, dtype=torch.float32, device=llm.device)\n",
    "if isinstance(weights, np.ndarray):\n",
    "    weights = torch.tensor(weights, dtype=torch.float32, device=llm.device)"
   ]
  },
  {
   "cell_type": "code",
   "execution_count": 6,
   "id": "c5e1396a-bf7c-420c-992f-e8a8ef6ee676",
   "metadata": {},
   "outputs": [],
   "source": [
    "# Compute KL divergence loss\n",
    "def dirichlet_loss(student_probs, probs):\n",
    "    kl_loss = F.kl_div(student_probs.log(), probs, reduction='batchmean')\n",
    "    return kl_loss"
   ]
  },
  {
   "cell_type": "code",
   "execution_count": 7,
   "id": "3396e346-a531-48d0-80f4-b2e54cef9981",
   "metadata": {},
   "outputs": [],
   "source": [
    "from torch.utils.data import Dataset, DataLoader\n",
    "\n",
    "class DirichletDataset(Dataset):\n",
    "    def __init__(self, samples, num_samples):\n",
    "        self.samples = samples\n",
    "        self.num_samples = num_samples\n",
    "\n",
    "    def __len__(self):\n",
    "        return self.num_samples\n",
    "\n",
    "    def __getitem__(self, idx):\n",
    "        return self.samples[idx], idx "
   ]
  },
  {
   "cell_type": "code",
   "execution_count": 8,
   "id": "0161c507-a518-4714-aa86-aae058fb4ba1",
   "metadata": {},
   "outputs": [
    {
     "name": "stdout",
     "output_type": "stream",
     "text": [
      "Epoch 1/10, Loss: 13.18482294306159\n",
      "Epoch 2/10, Loss: 4.464297568891197\n",
      "Epoch 3/10, Loss: 3.1514464765787125\n",
      "Epoch 4/10, Loss: 2.3083793218247592\n",
      "Epoch 5/10, Loss: 1.7496871212497354\n",
      "Epoch 6/10, Loss: 1.3618826468009502\n",
      "Epoch 7/10, Loss: 1.0772128249518573\n",
      "Epoch 8/10, Loss: 0.8896441149991006\n",
      "Epoch 9/10, Loss: 0.7493797233328223\n",
      "Epoch 10/10, Loss: 0.6592023184057325\n"
     ]
    }
   ],
   "source": [
    "# Train student model with teacher predictions\n",
    "def train_student(samples_train, probs, weights, num_epochs=10, learning_rate=1e-5, batch_size=32):\n",
    "    dataset = DirichletDataset(samples_train, len(samples_train))\n",
    "    dataloader = DataLoader(dataset, batch_size=batch_size, shuffle=False)\n",
    "\n",
    "    optimizer = optim.AdamW(filter(lambda p: p.requires_grad, llm.model.parameters()), lr=learning_rate)\n",
    "    llm.model.train()  \n",
    "\n",
    "    for epoch in range(num_epochs):\n",
    "        total_loss = 0\n",
    "\n",
    "        for batch_idx, (batch_samples, batch_indices) in enumerate(dataloader, start=1):\n",
    "            batch_indices = batch_indices.to(llm.device)\n",
    "\n",
    "            batch_probs = probs[batch_indices] \n",
    "            weights = weights.view(-1)\n",
    "\n",
    "            # probs shape: [16, 2, 9]\n",
    "            # weights shape: [9] (will broadcast over batch and class dims)\n",
    "            \n",
    "            batch_probs = (batch_probs * weights)  # broadcasting over last dim\n",
    "            batch_probs = batch_probs.sum(dim=2) \n",
    "            optimizer.zero_grad()\n",
    "\n",
    "            student_probs = classifier.soft_labels_batch(input_texts=batch_samples)\n",
    "            loss = dirichlet_loss(student_probs, batch_probs)\n",
    "          \n",
    "            loss.backward()\n",
    "\n",
    "            optimizer.step()\n",
    "            total_loss += loss.item()\n",
    "\n",
    "            if batch_idx % 1000 == 0:\n",
    "                    print(f\"Epoch {epoch+1}/{num_epochs}, Batch {batch_idx}/{len(dataloader)}\")\n",
    "\n",
    "        torch.cuda.empty_cache()\n",
    "\n",
    "        print(f\"Epoch {epoch+1}/{num_epochs}, Loss: {total_loss}\")\n",
    "\n",
    "train_student(samples_train, probs, weights, batch_size=16)"
   ]
  },
  {
   "cell_type": "code",
   "execution_count": 9,
   "id": "4a01a7c4-942c-4b88-9e5f-2c76a6cb2ea7",
   "metadata": {},
   "outputs": [],
   "source": [
    "# Evaluate performance of model on youtube comments test data\n",
    "class DirichletDataset(Dataset):\n",
    "    def __init__(self, samples, n_samples):\n",
    "        self.samples = samples\n",
    "        self.n_samples = n_samples\n",
    "\n",
    "    def __len__(self):\n",
    "        return self.n_samples\n",
    "\n",
    "    def __getitem__(self, idx):\n",
    "        return self.samples[idx]\n",
    "\n",
    "llm.model.eval()\n",
    "test_dataset = DirichletDataset(samples_test, 711)\n",
    "test_dataloader = DataLoader(test_dataset, batch_size=16, shuffle=False) \n",
    "\n",
    "def get_test_alpha(test_dataloader, classifier):\n",
    "    all_alpha = []\n",
    "\n",
    "    with torch.no_grad():\n",
    "        for batch_samples in test_dataloader:\n",
    "            alpha_batch = classifier.soft_labels_batch(input_texts=batch_samples)\n",
    "            all_alpha.append(alpha_batch)\n",
    "\n",
    "    return torch.cat(all_alpha, dim=0) \n",
    "\n",
    "\n",
    "\n",
    "stu_probs = get_test_alpha(test_dataloader, classifier)"
   ]
  },
  {
   "cell_type": "code",
   "execution_count": 11,
   "id": "cb6624c6-1024-467c-833f-dd81047e1b1d",
   "metadata": {},
   "outputs": [
    {
     "name": "stdout",
     "output_type": "stream",
     "text": [
      "Student f1-score: 0.8747250658753052, Student ECE: 0.020189963281154633\n"
     ]
    }
   ],
   "source": [
    "import evaluation  \n",
    "stu_probs=stu_probs.cpu().numpy()\n",
    "f1_score = evaluation.compute_metric(gt_labels_test, stu_probs, metric='f1')\n",
    "ece = evaluation.compute_metric(gt_labels_test, stu_probs, metric='ece')\n",
    "print('Student f1-score: {}, Student ECE: {}'.format(f1_score, ece))"
   ]
  }
 ],
 "metadata": {
  "kernelspec": {
   "display_name": "Python (base)",
   "language": "python",
   "name": "base"
  },
  "language_info": {
   "codemirror_mode": {
    "name": "ipython",
    "version": 3
   },
   "file_extension": ".py",
   "mimetype": "text/x-python",
   "name": "python",
   "nbconvert_exporter": "python",
   "pygments_lexer": "ipython3",
   "version": "3.13.2"
  }
 },
 "nbformat": 4,
 "nbformat_minor": 5
}
